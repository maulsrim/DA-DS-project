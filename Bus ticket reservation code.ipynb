{
 "cells": [
  {
   "cell_type": "code",
   "execution_count": 5,
   "id": "254dfe3f-2816-4478-9466-7fe3b4cab825",
   "metadata": {},
   "outputs": [
    {
     "name": "stdout",
     "output_type": "stream",
     "text": [
      "<<<<<<<<<<<<<<<< Bus availability >>>>>>>>>>>>>>>>>>>\n",
      "\n",
      "1.Chennai to Coimbatore\n",
      "  Slot1 - Timing :6:00 a.m  \n",
      "  Slot2 - Timing :4:00 p.m\n",
      "  Slot3 - Timing :9:00 p.m\n",
      "\n",
      "2.Tirunelveli to Bangalore\n",
      "  Slot1 - Timing : 6:00 a.m\n",
      "  Slot2 - Timing : 4:00 p.m\n",
      "  Slot3 - Timing : 9:00 p.m\n",
      "\n",
      "3.Erode to Vishakapatnam\n",
      "  Slot1 - Timing : 6:00 a.m\n",
      "  Slot2 - Timing : 4:00 p.m\n",
      "  Slot3 - Timing : 9:00 p.m\n",
      "\n",
      "4.Chennai to Tirunelveli\n",
      "  Slot1 - Timing : 6:00 a.m\n",
      "  Slot2 - Timing : 4:00 p.m\n",
      "  Slot3 - Timing : 9:00 p.m\n",
      "\n",
      "<<<<<<<<<<<<<<<<<<<<<<<<<<<>>>>>>>>>>>>>>>>>>>>>>>>>>>\n"
     ]
    },
    {
     "name": "stdin",
     "output_type": "stream",
     "text": [
      "\n",
      "Enter 1 for booking or 2 for exit:  1\n",
      "Enter bus number:  2\n",
      "Enter number of seats to book:  3\n"
     ]
    },
    {
     "name": "stdout",
     "output_type": "stream",
     "text": [
      "Bus_No: 2\tAvailable Seats: 15\n",
      "Seats are available. You may proceed.\n"
     ]
    },
    {
     "name": "stdin",
     "output_type": "stream",
     "text": [
      "Enter passenger's name:  maals\n",
      "Enter a slot number:  3\n",
      "Do you want AC or Non-AC?  ac\n",
      "You want sleeper or semi-sleeper:  sleeper\n"
     ]
    },
    {
     "name": "stdout",
     "output_type": "stream",
     "text": [
      "AC sleeper is available for you\n"
     ]
    },
    {
     "name": "stdin",
     "output_type": "stream",
     "text": [
      "Enter date in (DD-MM-YYYY):  12-10-2024\n"
     ]
    },
    {
     "name": "stdout",
     "output_type": "stream",
     "text": [
      "The date cannot be in the past. Please enter a valid date.\n"
     ]
    },
    {
     "name": "stdin",
     "output_type": "stream",
     "text": [
      "Enter date in (DD-MM-YYYY):  12-24-2024\n"
     ]
    },
    {
     "name": "stdout",
     "output_type": "stream",
     "text": [
      "Please enter the date in correct format (DD-MM-YYYY)\n"
     ]
    },
    {
     "name": "stdin",
     "output_type": "stream",
     "text": [
      "Enter date in (DD-MM-YYYY):  12-12-2024\n"
     ]
    },
    {
     "name": "stdout",
     "output_type": "stream",
     "text": [
      "\n",
      "Hi maals! You have booked 3 seats with AC sleeper coach at slot 3 on 12-12-2024.\n"
     ]
    },
    {
     "name": "stdin",
     "output_type": "stream",
     "text": [
      "\n",
      "Enter 1 for booking or 2 for exit:  3\n"
     ]
    },
    {
     "name": "stdout",
     "output_type": "stream",
     "text": [
      "Invalid input. Please enter 1 or 2.\n"
     ]
    },
    {
     "name": "stdin",
     "output_type": "stream",
     "text": [
      "\n",
      "Enter 1 for booking or 2 for exit:  abc\n"
     ]
    },
    {
     "name": "stdout",
     "output_type": "stream",
     "text": [
      "Please enter a valid number.\n"
     ]
    },
    {
     "name": "stdin",
     "output_type": "stream",
     "text": [
      "\n",
      "Enter 1 for booking or 2 for exit:  1\n",
      "Enter bus number:  1\n",
      "Enter number of seats to book:  20\n"
     ]
    },
    {
     "name": "stdout",
     "output_type": "stream",
     "text": [
      "Bus_No: 1\tAvailable Seats: 15\n",
      "There are not enough available seats.\n",
      "Sorry, you may check with a lesser number of seats...\n"
     ]
    },
    {
     "name": "stdin",
     "output_type": "stream",
     "text": [
      "\n",
      "Enter 1 for booking or 2 for exit:  2\n"
     ]
    },
    {
     "name": "stdout",
     "output_type": "stream",
     "text": [
      "Thank you for visiting.\n"
     ]
    }
   ],
   "source": [
    "\n",
    "'''   ****BUS TICKET RESERVATION SYSTEM **** '''\n",
    "\n",
    "from datetime import datetime\n",
    "from abc import ABC, abstractmethod\n",
    "\n",
    "class Bus:                         # Parent class\n",
    "    def __init__(self, bus_no):\n",
    "        self.bus_no = bus_no\n",
    "        self.available_seats = 15  # Fixed available seats\n",
    "\n",
    "    def bus_info(self):\n",
    "        return f\"Bus_No: {self.bus_no}\\tAvailable Seats: {self.available_seats}\"\n",
    "\n",
    "class IsAvailable(Bus):            #Inheriting from parent class(Bus)         \n",
    "    \n",
    "    #Check requested number of seats available  \n",
    "    def __init__(self, bus_no, seat_confirm):\n",
    "        #Inherit by super() method\n",
    "        super().__init__(bus_no)   #super() allows us to access methods of Bus class\n",
    "        self.seat_confirm = seat_confirm\n",
    "\n",
    "    def is_available_info(self):\n",
    "        if self.available_seats >= self.seat_confirm:       \n",
    "            print(\"Seats are available. You may proceed.\")\n",
    "            return True\n",
    "        else:\n",
    "            print(\"There are not enough available seats.\")\n",
    "            return False\n",
    "\n",
    "class Booking(ABC, IsAvailable):   # Inherit from ABC\n",
    "    def __init__(self, bus_no, seat_confirm):\n",
    "        super().__init__(bus_no, seat_confirm)  #super() allows us to access methods of IsAvailable class\n",
    "        self.passenger_name = input(\"Enter passenger's name: \")\n",
    "        self.slot = int(input('Enter a slot number: '))\n",
    "        self.AC, self.seat_comfort = self.get_AC()  # Get both AC preference and seat comfort\n",
    "        self.date = self.get_date()\n",
    "\n",
    "    @abstractmethod             #Used to hide the complex instruction of get_AC\n",
    "    def get_AC(self):\n",
    "        \"\"\"Abstract method to get the seat comfort.\"\"\"\n",
    "        pass\n",
    "\n",
    "    @abstractmethod          #Used to hide the complex instruction of get_date\n",
    "    def get_date(self):\n",
    "        \"\"\"Abstract method to get the booking date.\"\"\"\n",
    "        pass\n",
    "\n",
    "class ConcreteBooking(Booking):          # Concrete implementation of Booking\n",
    "\n",
    "    def get_AC(self):\n",
    "        while True:\n",
    "            try:\n",
    "                seat_detail = input('Do you want AC or Non-AC? ').strip().upper()\n",
    "                if seat_detail not in ['AC', 'NON-AC']:\n",
    "                    raise ValueError(\"Invalid option. Please enter 'AC' or 'Non-AC'.\")\n",
    "                \n",
    "                seat = input('You want sleeper or semi-sleeper: ')\n",
    "                print(f'{seat_detail} {seat} is available for you')\n",
    "                return seat_detail, seat  # Return both comfort type and seat type\n",
    "            except ValueError as ve:\n",
    "                print(ve)\n",
    "\n",
    "    def get_date(self):       #For valid booking date from user \n",
    "        while True:\n",
    "            date_str = input(\"Enter date in (DD-MM-YYYY): \")\n",
    "            try:\n",
    "                date = datetime.strptime(date_str, '%d-%m-%Y')\n",
    "                if date < datetime.now():\n",
    "                    print(\"The date cannot be in the past. Please enter a valid date.\")\n",
    "                    continue\n",
    "                return date\n",
    "            except ValueError:\n",
    "                print('Please enter the date in correct format (DD-MM-YYYY)')\n",
    "\n",
    "    def booking_info(self):       #display confirmation message\n",
    "        return (f\"\\nHi {self.passenger_name}! You have booked \"\n",
    "                f\"{self.seat_confirm} seats with {self.AC} {self.seat_comfort} coach at slot {self.slot} on \"\n",
    "                f\"{self.date.strftime('%d-%m-%Y')}.\")\n",
    "\n",
    "def main():\n",
    "    while True:\n",
    "        try:\n",
    "            # Attempt to read bus details from a file\n",
    "            with open(r'C:\\Users\\Lenovo\\Documents\\bus_details.txt', 'r', encoding='UTF-8') as fileobj:\n",
    "                details = fileobj.read()\n",
    "                print(details)\n",
    "        except FileNotFoundError:\n",
    "            print('Bus details file not found.')\n",
    "            return\n",
    "        except IOError:\n",
    "            # Handle other I/O errors (e.g., permission issues)\n",
    "            print(\"Error: Unable to read the bus details file.\")\n",
    "            return\n",
    "\n",
    "        while True:\n",
    "            try:\n",
    "                bus_check = int(input(\"\\nEnter 1 for booking or 2 for exit: \"))\n",
    "                if bus_check == 1:\n",
    "                    bus_no = int(input(\"Enter bus number: \"))\n",
    "                    seat_confirm = int(input(\"Enter number of seats to book: \"))\n",
    "\n",
    "                    bus = IsAvailable(bus_no, seat_confirm)     # Create instance of IsAvailable \n",
    "                    print(bus.bus_info())      # Display bus information  \n",
    "\n",
    "                    if bus.is_available_info():\n",
    "                        booking = ConcreteBooking(bus_no, seat_confirm)\n",
    "                        print(booking.booking_info())\n",
    "                    else:\n",
    "                        print(\"Sorry, you may check with a lesser number of seats...\")\n",
    "                \n",
    "                elif bus_check == 2:\n",
    "                    print('Thank you for visiting.')\n",
    "                    return      # Exit the program\n",
    "                else:\n",
    "                    print(\"Invalid input. Please enter 1 or 2.\")\n",
    "            except ValueError:\n",
    "                print(\"Please enter a valid number.\")\n",
    "\n",
    "if __name__ == \"__main__\":\n",
    "    main()   # Run the main function\n"
   ]
  },
  {
   "cell_type": "code",
   "execution_count": null,
   "id": "2dff5c70-f3b2-4981-af0a-128ee2a280fc",
   "metadata": {},
   "outputs": [],
   "source": []
  }
 ],
 "metadata": {
  "kernelspec": {
   "display_name": "Python 3 (ipykernel)",
   "language": "python",
   "name": "python3"
  },
  "language_info": {
   "codemirror_mode": {
    "name": "ipython",
    "version": 3
   },
   "file_extension": ".py",
   "mimetype": "text/x-python",
   "name": "python",
   "nbconvert_exporter": "python",
   "pygments_lexer": "ipython3",
   "version": "3.12.4"
  }
 },
 "nbformat": 4,
 "nbformat_minor": 5
}
